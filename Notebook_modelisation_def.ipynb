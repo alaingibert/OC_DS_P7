{
 "cells": [
  {
   "cell_type": "markdown",
   "metadata": {},
   "source": [
    "SOURCE : https://www.kaggle.com/jsaguiar/lightgbm-with-simple-features"
   ]
  },
  {
   "cell_type": "code",
   "execution_count": 1,
   "metadata": {},
   "outputs": [],
   "source": [
    "import numpy as np\n",
    "import pandas as pd\n",
    "import gc\n",
    "import pickle\n",
    "import re\n",
    "import time\n",
    "import kernel_1 as kn1\n",
    "from contextlib import contextmanager\n",
    "from lightgbm import LGBMClassifier\n",
    "from sklearn.metrics import roc_auc_score, roc_curve, auc, plot_roc_curve\n",
    "from sklearn.metrics import precision_recall_curve, plot_precision_recall_curve, f1_score, fbeta_score, make_scorer, plot_confusion_matrix\n",
    "from sklearn.model_selection import KFold, StratifiedKFold, cross_val_score, train_test_split #RepeatedStratifiedKFold\n",
    "\n",
    "from sklearn.linear_model import LogisticRegression\n",
    "from sklearn.impute import SimpleImputer\n",
    "from sklearn.pipeline import Pipeline\n",
    "from sklearn.ensemble import RandomForestClassifier\n",
    "from sklearn.svm import SVC\n",
    "from imblearn.over_sampling import RandomOverSampler, SMOTE\n",
    "from imblearn.under_sampling import RandomUnderSampler\n",
    "from collections import Counter\n",
    "import imblearn\n",
    "import matplotlib.pyplot as plt\n",
    "import seaborn as sns\n",
    "import warnings\n",
    "warnings.simplefilter(action='ignore', category=FutureWarning)"
   ]
  },
  {
   "cell_type": "code",
   "execution_count": 2,
   "metadata": {},
   "outputs": [
    {
     "data": {
      "text/html": [
       "<style>.container { width:90% !important; }</style>"
      ],
      "text/plain": [
       "<IPython.core.display.HTML object>"
      ]
     },
     "metadata": {},
     "output_type": "display_data"
    }
   ],
   "source": [
    "from IPython.core.display import display, HTML\n",
    "display(HTML(\"<style>.container { width:90% !important; }</style>\"))"
   ]
  },
  {
   "cell_type": "code",
   "execution_count": 2,
   "metadata": {},
   "outputs": [],
   "source": [
    "%load_ext autoreload\n",
    "%autoreload 2"
   ]
  },
  {
   "cell_type": "markdown",
   "metadata": {},
   "source": [
    "# Préparation des données et validation croisée"
   ]
  },
  {
   "cell_type": "code",
   "execution_count": 4,
   "metadata": {},
   "outputs": [
    {
     "name": "stdout",
     "output_type": "stream",
     "text": [
      "MODE DEBUG : nb de lignes :  10000\n",
      "Génère le dataset (process et jointures) puis le sauve\n",
      "Train samples: 10000, test samples: 10000\n",
      "Bureau df shape: (2011, 108)\n",
      "Process bureau and bureau_balance - done in 1s\n",
      "Previous applications df shape: (9734, 242)\n",
      "Process previous_applications - done in 1s\n",
      "Pos-cash balance df shape: (9494, 15)\n",
      "Process POS-CASH balance - done in 0s\n",
      "Installments payments df shape: (8893, 26)\n",
      "Process installments payments - done in 0s\n",
      "Credit card balance df shape: (9520, 131)\n",
      "Process credit card balance - done in 0s\n"
     ]
    }
   ],
   "source": [
    "num_rows = 10000\n",
    "processed_df = kn1.get_df(debug = True, reload = False, process = True, num_rows=num_rows)\n",
    "# ligne ajoutée à cause du msg : LightGBMError: Do not support special JSON characters in feature name.\n",
    "processed_df = processed_df.rename(columns = lambda x:re.sub('[^A-Za-z0-9_]+', '', x))\n",
    "\n",
    "# ne retient que le jeu dont on connaît la TARGET\n",
    "processed_df = processed_df[processed_df['TARGET'].notnull()]\n",
    "\n",
    "# définit les colonnes features qui servent à l'évaluation du modèle\n",
    "feats = [f for f in processed_df.columns if f not in ['TARGET','SK_ID_CURR','SK_ID_BUREAU','SK_ID_PREV','index']]\n",
    "\n",
    "y_true = processed_df['TARGET']\n",
    "X = processed_df[feats]"
   ]
  },
  {
   "cell_type": "code",
   "execution_count": 5,
   "metadata": {},
   "outputs": [],
   "source": [
    "# Répartition entre jeu d'entraînement et jeu de validation (2000 lignes)\n",
    "X_train, X_test, y_train, y_test = train_test_split(X, y_true, test_size=2000, random_state=1)"
   ]
  },
  {
   "cell_type": "code",
   "execution_count": 6,
   "metadata": {},
   "outputs": [
    {
     "name": "stdout",
     "output_type": "stream",
     "text": [
      "Proportion de TARGET = 1 :  7.75  %\n"
     ]
    }
   ],
   "source": [
    "print(\"Proportion de TARGET = 1 : \", y_true.sum()/y_true.shape[0]*100, \" %\")"
   ]
  },
  {
   "cell_type": "code",
   "execution_count": 11,
   "metadata": {},
   "outputs": [],
   "source": [
    "# prépa des folds\n",
    "nb_folds = 5 #10\n",
    "strat_fold = StratifiedKFold(n_splits=nb_folds, random_state=1)\n",
    "\n",
    "# imputation des valeurs manquantes\n",
    "simple_imputer = SimpleImputer(strategy = 'median') #most_frequent"
   ]
  },
  {
   "cell_type": "code",
   "execution_count": 20,
   "metadata": {},
   "outputs": [],
   "source": [
    "# définition du modèle avec pondération basée sur le ratio\n",
    "# 92% de target 0 et 8% de target 1 --> ratio de 1 / 12 environ\n",
    "weights = {0:1.0, 1:12}"
   ]
  },
  {
   "cell_type": "markdown",
   "metadata": {},
   "source": [
    "# Définition de la métrique\n",
    "https://machinelearningmastery.com/tour-of-evaluation-metrics-for-imbalanced-classification/\n",
    "\n",
    "https://machinelearningmastery.com/precision-recall-and-f-measure-for-imbalanced-classification/"
   ]
  },
  {
   "cell_type": "markdown",
   "metadata": {},
   "source": [
    "<!-- Recall: Appropriate when minimizing false negatives is the focus.\n",
    "Comme les faux-négatifs sont plus coûteux, on veut les limiter, donc augmenter la sensibilité (sensitivity ou recall).\n",
    "On utilisera donc comme métrique : fbeta_score avec un beta > 1, pour favoriser le recall. -->"
   ]
  },
  {
   "cell_type": "code",
   "execution_count": 85,
   "metadata": {
    "code_folding": []
   },
   "outputs": [],
   "source": [
    "# définition d'un scorer propre aux règles métier\n",
    "def custom_score_function(y_true, y_pred):\n",
    "    score = 0\n",
    "    counter = 1\n",
    "    for i in range(len(y_true)):\n",
    "        try:\n",
    "            if y_true[i] == 0:\n",
    "                # détection d'un vrai négatif (TN)\n",
    "                # client SANS défaut de paiement, crédit accordé.\n",
    "                # La banque prête 100, récupère 100 + 8 (intérêt) +2 en bonus (l'action monte) -> solde : +10\n",
    "                if y_pred[i] == 0: score += 10\n",
    "\n",
    "                # détection d'un faux positif (FP)\n",
    "                # client SANS défaut de paiement, mais crédit refusé.\n",
    "                # La banque ne prête rien, ne gagne pas d'argent alors qu'elle aurait pu  (manque à gagner)\n",
    "                # Le CA stagne -> -10 en malus (l'action diminue) -> solde : -10                \n",
    "                if y_pred[i] == 1: score += -10 \n",
    "\n",
    "            elif y_true[i] == 1:\n",
    "                # détection d'un faux négatif (FN)\n",
    "                # client AVEC défaut de paiement, crédit accordé mais non remboursé\n",
    "                # La banque prête 100, perd 100, -20 en malus (l'action diminue) -> solde : -120               \n",
    "                if y_pred[i] == 0: score += -120\n",
    "\n",
    "                # détection d'un vrai positif (TP)\n",
    "                # client AVEC défaut de paiement, crédit refusé\n",
    "                # La banque ne prête rien, ne gagne pas d'argent, mais a su éviter un défaut de paiement. +30 en bonus\n",
    "                if y_pred[i] == 1: score += 30\n",
    "            counter +=1\n",
    "        except KeyError:\n",
    "            continue\n",
    "    return score/counter\n",
    "\n",
    "my_scorer = make_scorer(custom_score_function, greater_is_better=True)"
   ]
  },
  {
   "cell_type": "code",
   "execution_count": 10,
   "metadata": {},
   "outputs": [],
   "source": [
    "# chronométrage des temps de calcul des modèles\n",
    "@contextmanager\n",
    "def timer(title):\n",
    "    t0 = time.time()\n",
    "    yield\n",
    "    print(\"{} - temps de calcul {:.0f}s\".format(title, time.time() - t0))"
   ]
  },
  {
   "cell_type": "code",
   "execution_count": 43,
   "metadata": {},
   "outputs": [],
   "source": [
    "# routine d'évaluation de modèle par validation croisée\n",
    "def model_eval(model, model_name, X, y):\n",
    "    with timer(\"Modèle : {} - dataset : {} lignes\".format(model_name, X.shape[0])):\n",
    "        scores = cross_val_score(model, X, y, scoring=my_scorer, cv=strat_fold, n_jobs=-1)\n",
    "        print('Validation croisée - Score moyen: {:.3f}'.format(np.mean(scores)))    \n",
    "    return"
   ]
  },
  {
   "cell_type": "markdown",
   "metadata": {},
   "source": [
    "# Baseline : régression logistique"
   ]
  },
  {
   "cell_type": "code",
   "execution_count": 86,
   "metadata": {},
   "outputs": [],
   "source": [
    "# définit le modèle\n",
    "lr_model = LogisticRegression(solver='lbfgs')"
   ]
  },
  {
   "cell_type": "markdown",
   "metadata": {},
   "source": [
    "## sans pondération"
   ]
  },
  {
   "cell_type": "code",
   "execution_count": 87,
   "metadata": {},
   "outputs": [
    {
     "name": "stdout",
     "output_type": "stream",
     "text": [
      "Validation croisée - Score moyen: 1.003\n",
      "Modèle : Régression logistique (sans pondération) - dataset : 8000 lignes - temps de calcul 4s\n"
     ]
    }
   ],
   "source": [
    "# Pipeline\n",
    "lr_steps = [('imputer',simple_imputer), ('logistic', lr_model)]\n",
    "lr_pipeline = Pipeline(steps=lr_steps)\n",
    "model_name = \"Régression logistique (sans pondération)\"\n",
    "\n",
    "model_eval(lr_pipeline, model_name, X_train, y_train)"
   ]
  },
  {
   "cell_type": "markdown",
   "metadata": {},
   "source": [
    "## avec pondération des classes"
   ]
  },
  {
   "cell_type": "code",
   "execution_count": 88,
   "metadata": {},
   "outputs": [],
   "source": [
    "wlr_model = LogisticRegression(solver='lbfgs', class_weight=weights)\n",
    "wlr_steps = [('imputer',simple_imputer), ('w_logistic', wlr_model)]\n",
    "wlr_pipeline = Pipeline(steps=wlr_steps)\n",
    "model_name = \"Régression logistique (avec pondération)\""
   ]
  },
  {
   "cell_type": "code",
   "execution_count": 89,
   "metadata": {},
   "outputs": [
    {
     "name": "stdout",
     "output_type": "stream",
     "text": [
      "Validation croisée - Score moyen: -1.780\n",
      "Modèle : Régression logistique (avec pondération) - dataset : 8000 lignes - temps de calcul 6s\n"
     ]
    }
   ],
   "source": [
    "model_eval(wlr_pipeline, model_name, X_train, y_train)"
   ]
  },
  {
   "cell_type": "markdown",
   "metadata": {},
   "source": [
    "## avec over sampling"
   ]
  },
  {
   "cell_type": "code",
   "execution_count": 116,
   "metadata": {},
   "outputs": [
    {
     "name": "stdout",
     "output_type": "stream",
     "text": [
      "Counter({0.0: 7385, 1.0: 3692})\n"
     ]
    }
   ],
   "source": [
    "# oversample en précisant le ratio de la classe minoritaire / classe majoritaire\n",
    "oversample_rate = 0.5\n",
    "oversample = RandomOverSampler(sampling_strategy=oversample_rate)\n",
    "#oversample = RandomOverSampler(sampling_strategy=\"minority\")\n",
    "\n",
    "# exécute le sur-échantillonnage\n",
    "X_train_over, y_train_over = oversample.fit_resample(X_train, y_train)\n",
    "print(Counter(y_over))"
   ]
  },
  {
   "cell_type": "code",
   "execution_count": 113,
   "metadata": {},
   "outputs": [],
   "source": [
    "# étapes de SMOTE et undersampling\n",
    "# smote_ratio = 0.5\n",
    "# undersampling_ratio = 0.5\n",
    "# over = SMOTE(sampling_strategy=smote_ratio)\n",
    "# under = RandomUnderSampler(sampling_strategy=undersampling_ratio)"
   ]
  },
  {
   "cell_type": "code",
   "execution_count": 118,
   "metadata": {},
   "outputs": [
    {
     "name": "stdout",
     "output_type": "stream",
     "text": [
      "Validation croisée - Score moyen: 0.988\n",
      "Modèle : Régression logistique (avec over-sampling) - dataset : 8000 lignes - temps de calcul 5s\n"
     ]
    }
   ],
   "source": [
    "# pipeline imblearn - VERSION OVERSAMPLE\n",
    "imb_lr_steps = [('imputer',simple_imputer), ('over', oversample), ('logistic', lr_model)]\n",
    "imb_lr_pipeline = imblearn.pipeline.Pipeline(steps=imb_lr_steps)\n",
    "model_name = \"Régression logistique (avec over-sampling)\"\n",
    "\n",
    "model_eval(imb_lr_pipeline, model_name, X_train, y_train)"
   ]
  },
  {
   "cell_type": "markdown",
   "metadata": {},
   "source": [
    "# Modèle 2 : Random Forest\n",
    " Perhaps the most important hyperparameter to tune for the random forest is the number of random features to consider at each split point.\n",
    " A good heuristic for classification is to set this hyperparameter to the square root of the number of input features.\n",
    " source : https://machinelearningmastery.com/random-forest-ensemble-in-python/"
   ]
  },
  {
   "cell_type": "markdown",
   "metadata": {},
   "source": [
    "nb de features max pour RF : environ sqrt(765) = 27"
   ]
  },
  {
   "cell_type": "code",
   "execution_count": 135,
   "metadata": {},
   "outputs": [],
   "source": [
    "# definit le modèle\n",
    "# hyper-paramètres principaux : max_features, n_estimators,  max_depth\n",
    "rf_model = RandomForestClassifier(max_features=27, n_estimators=8000, max_depth=8, n_jobs=-1)"
   ]
  },
  {
   "cell_type": "markdown",
   "metadata": {},
   "source": [
    "## sans pondération"
   ]
  },
  {
   "cell_type": "code",
   "execution_count": 136,
   "metadata": {},
   "outputs": [],
   "source": [
    "# Pipeline\n",
    "rf_steps = [('imputer',simple_imputer), ('rf', rf_model)]\n",
    "rf_pipeline = Pipeline(steps=rf_steps)\n",
    "model_name = \"Forêt aléatoire (sans pondération)\""
   ]
  },
  {
   "cell_type": "code",
   "execution_count": 137,
   "metadata": {},
   "outputs": [
    {
     "name": "stdout",
     "output_type": "stream",
     "text": [
      "Validation croisée - Score moyen: 1.003\n",
      "Modèle : Forêt aléatoire (sans pondération) - dataset : 8000 lignes - temps de calcul 174s\n"
     ]
    }
   ],
   "source": [
    "# mesure performance cross validation\n",
    "model_eval(rf_pipeline, model_name, X_train, y_train)"
   ]
  },
  {
   "cell_type": "markdown",
   "metadata": {},
   "source": [
    "## avec pondération"
   ]
  },
  {
   "cell_type": "code",
   "execution_count": 138,
   "metadata": {},
   "outputs": [
    {
     "name": "stdout",
     "output_type": "stream",
     "text": [
      "Validation croisée - Score moyen: 0.774\n",
      "Modèle : Forêt aléatoire (avec pondération) - dataset : 8000 lignes - temps de calcul 196s\n"
     ]
    }
   ],
   "source": [
    "wrf_model = RandomForestClassifier(max_features=27, n_estimators=8000, max_depth=8, class_weight=weights, n_jobs=-1)\n",
    "wrf_steps = [('imputer',simple_imputer), ('wrf', wrf_model)]\n",
    "wrf_pipeline = Pipeline(steps=wrf_steps)\n",
    "model_name = \"Forêt aléatoire (avec pondération)\"\n",
    "\n",
    "# mesure performance cross validation\n",
    "model_eval(wrf_pipeline, model_name, X_train, y_train)"
   ]
  },
  {
   "cell_type": "markdown",
   "metadata": {},
   "source": [
    "## avec oversampling"
   ]
  },
  {
   "cell_type": "code",
   "execution_count": 139,
   "metadata": {
    "code_folding": [
     0
    ]
   },
   "outputs": [],
   "source": [
    "# # Performance sur le jeu d'évaluation\n",
    "# rf_pipeline.fit(X_train_over, y_train_over)\n",
    "# y_pred = rf_pipeline.predict(X_test)\n",
    "# print(custom_score_function(y_test, y_pred))"
   ]
  },
  {
   "cell_type": "code",
   "execution_count": 140,
   "metadata": {},
   "outputs": [
    {
     "name": "stdout",
     "output_type": "stream",
     "text": [
      "Validation croisée - Score moyen: 1.058\n",
      "Modèle : Forêt aléatoire (avec over-sampling) - dataset : 8000 lignes - temps de calcul 514s\n"
     ]
    }
   ],
   "source": [
    "# pipeline imblearn\n",
    "imb_rf_steps = [('imputer', simple_imputer), ('over', oversample), ('rf', rf_model)] # ('under', under)\n",
    "imb_rf_pipeline = imblearn.pipeline.Pipeline(steps=imb_rf_steps)\n",
    "model_name = \"Forêt aléatoire (avec over-sampling)\"\n",
    "\n",
    "# mesure performance cross validation\n",
    "model_eval(imb_rf_pipeline, model_name, X_train, y_train)"
   ]
  },
  {
   "cell_type": "markdown",
   "metadata": {},
   "source": [
    "## Matrice de confusion"
   ]
  },
  {
   "cell_type": "code",
   "execution_count": 141,
   "metadata": {},
   "outputs": [
    {
     "data": {
      "text/plain": [
       "Pipeline(steps=[('imputer', SimpleImputer(strategy='median')),\n",
       "                ('over', RandomOverSampler(sampling_strategy=0.5)),\n",
       "                ('rf',\n",
       "                 RandomForestClassifier(max_depth=8, max_features=27,\n",
       "                                        n_estimators=8000, n_jobs=-1))])"
      ]
     },
     "execution_count": 141,
     "metadata": {},
     "output_type": "execute_result"
    }
   ],
   "source": [
    "# fit sur le jeu d'entraînement\n",
    "imb_rf_pipeline.fit(X_train, y_train)"
   ]
  },
  {
   "cell_type": "code",
   "execution_count": 142,
   "metadata": {},
   "outputs": [
    {
     "data": {
      "image/png": "[encoded data removed]",
      "text/plain": [
       "<Figure size 432x288 with 2 Axes>"
      ]
     },
     "metadata": {
      "needs_background": "light"
     },
     "output_type": "display_data"
    }
   ],
   "source": [
    "# matrice de confusion sur le jeu de test\n",
    "plot_confusion_matrix(imb_rf_pipeline, X_test, y_test)\n",
    "plt.show()"
   ]
  },
  {
   "cell_type": "markdown",
   "metadata": {
    "heading_collapsed": true
   },
   "source": [
    "# Modèle 3 : SVM\n",
    "weighted SVM, or cost-sensitive SVM\n",
    "\n",
    "https://machinelearningmastery.com/cost-sensitive-svm-for-imbalanced-classification/"
   ]
  },
  {
   "cell_type": "code",
   "execution_count": 122,
   "metadata": {
    "hidden": true
   },
   "outputs": [],
   "source": [
    "svm_model = SVC(gamma='scale')"
   ]
  },
  {
   "cell_type": "markdown",
   "metadata": {
    "hidden": true
   },
   "source": [
    "## sans pondération"
   ]
  },
  {
   "cell_type": "code",
   "execution_count": 123,
   "metadata": {
    "hidden": true
   },
   "outputs": [
    {
     "name": "stdout",
     "output_type": "stream",
     "text": [
      "Validation croisée - Score moyen: 1.003\n",
      "Modèle : SVC (sans pondération) - dataset : 8000 lignes - temps de calcul 14s\n"
     ]
    }
   ],
   "source": [
    "# Pipeline\n",
    "svm_steps = [('imputer',simple_imputer), ('svm', svm_model)]\n",
    "svm_pipeline = Pipeline(steps=svm_steps)\n",
    "model_name = \"SVC (sans pondération)\"\n",
    "\n",
    "# mesure performance cross validation\n",
    "model_eval(svm_pipeline, model_name, X_train, y_train)"
   ]
  },
  {
   "cell_type": "markdown",
   "metadata": {
    "hidden": true
   },
   "source": [
    "## avec pondération"
   ]
  },
  {
   "cell_type": "code",
   "execution_count": 124,
   "metadata": {
    "hidden": true
   },
   "outputs": [],
   "source": [
    "wsvm_model = SVC(gamma='scale', class_weight=weights) #'balanced')\n",
    "# Pipeline\n",
    "wsvm_steps = [('imputer',simple_imputer), ('wsvm', wsvm_model)]\n",
    "wsvm_pipeline = Pipeline(steps=wsvm_steps)\n",
    "model_name = \"SVC (avec pondération)\""
   ]
  },
  {
   "cell_type": "code",
   "execution_count": 125,
   "metadata": {
    "hidden": true
   },
   "outputs": [
    {
     "name": "stdout",
     "output_type": "stream",
     "text": [
      "Validation croisée - Score moyen: 1.003\n",
      "Modèle : SVC (avec pondération) - dataset : 8000 lignes - temps de calcul 87s\n"
     ]
    }
   ],
   "source": [
    "# mesure performance cross validation\n",
    "model_eval(wsvm_pipeline, model_name, X_train, y_train)"
   ]
  },
  {
   "cell_type": "markdown",
   "metadata": {
    "hidden": true
   },
   "source": [
    "## avec oversampling"
   ]
  },
  {
   "cell_type": "code",
   "execution_count": 126,
   "metadata": {
    "hidden": true
   },
   "outputs": [],
   "source": [
    "# pipeline imblearn\n",
    "imb_svm_steps = [('imputer', simple_imputer), ('over', oversample), ('svm', svm_model)]\n",
    "imb_svm_pipeline = imblearn.pipeline.Pipeline(steps=imb_svm_steps)\n",
    "model_name = \"SVC (avec over-sampling)\""
   ]
  },
  {
   "cell_type": "code",
   "execution_count": 127,
   "metadata": {
    "hidden": true
   },
   "outputs": [
    {
     "name": "stdout",
     "output_type": "stream",
     "text": [
      "Validation croisée - Score moyen: 1.003\n",
      "Modèle : SVC (avec over-sampling) - dataset : 8000 lignes - temps de calcul 113s\n"
     ]
    }
   ],
   "source": [
    "# mesure performance cross validation\n",
    "model_eval(imb_svm_pipeline, model_name, X_train, y_train)"
   ]
  },
  {
   "cell_type": "markdown",
   "metadata": {},
   "source": [
    "# modèle 4 : LightGBM"
   ]
  },
  {
   "cell_type": "markdown",
   "metadata": {},
   "source": [
    "## sans pondération"
   ]
  },
  {
   "cell_type": "code",
   "execution_count": 143,
   "metadata": {},
   "outputs": [],
   "source": [
    "lgbm_model = LGBMClassifier(n_estimators=8000, learning_rate=0.02, num_leaves=34, max_depth=8, n_jobs=-1)\n",
    "# lgbm_model = LGBMClassifier(n_estimators=997, learning_rate=0.01, num_leaves=32, max_depth=10, n_jobs=-1)\n",
    "lgbm_steps = [('imputer', simple_imputer), ('lgbm', lgbm_model)]\n",
    "lgbm_pipeline = Pipeline(steps=lgbm_steps)\n",
    "model_name = \"LightGBM\""
   ]
  },
  {
   "cell_type": "code",
   "execution_count": 144,
   "metadata": {},
   "outputs": [
    {
     "name": "stdout",
     "output_type": "stream",
     "text": [
      "Validation croisée - Score moyen: 1.031\n",
      "Modèle : LightGBM - dataset : 8000 lignes - temps de calcul 144s\n"
     ]
    }
   ],
   "source": [
    "# mesure performance cross validation\n",
    "model_eval(lgbm_pipeline, model_name, X_train, y_train)"
   ]
  },
  {
   "cell_type": "markdown",
   "metadata": {},
   "source": [
    "## avec pondération"
   ]
  },
  {
   "cell_type": "code",
   "execution_count": 145,
   "metadata": {},
   "outputs": [],
   "source": [
    "wlgbm_model = LGBMClassifier(is_unbalance=True, n_estimators=8000, learning_rate=0.02, num_leaves=34, max_depth=8, n_jobs=-1)\n",
    "wlgbm_steps = [('imputer', simple_imputer), ('wlgbm', wlgbm_model)]\n",
    "wlgbm_pipeline = Pipeline(steps=wlgbm_steps)\n",
    "model_name = \"LightGBM (avec pondération)\""
   ]
  },
  {
   "cell_type": "code",
   "execution_count": 146,
   "metadata": {
    "code_folding": []
   },
   "outputs": [
    {
     "name": "stdout",
     "output_type": "stream",
     "text": [
      "Validation croisée - Score moyen: 1.128\n",
      "Modèle : LightGBM (avec pondération) - dataset : 8000 lignes - temps de calcul 187s\n"
     ]
    }
   ],
   "source": [
    "# mesure performance cross validation\n",
    "model_eval(wlgbm_pipeline, model_name, X_train, y_train)"
   ]
  },
  {
   "cell_type": "markdown",
   "metadata": {},
   "source": [
    "## avec oversampling"
   ]
  },
  {
   "cell_type": "code",
   "execution_count": 147,
   "metadata": {},
   "outputs": [
    {
     "name": "stdout",
     "output_type": "stream",
     "text": [
      "Validation croisée - Score moyen: 1.047\n",
      "Modèle : LightGBM (avec oversampling) - dataset : 8000 lignes - temps de calcul 181s\n"
     ]
    }
   ],
   "source": [
    "# pipeline imblearn\n",
    "imb_lgbm_steps = [('imputer', simple_imputer), ('over', oversample), ('imb_lgbm', lgbm_model)]\n",
    "imb_lgbm_pipeline = imblearn.pipeline.Pipeline(steps=imb_lgbm_steps)\n",
    "model_name = \"LightGBM (avec oversampling)\"\n",
    "\n",
    "# mesure performance cross validation\n",
    "model_eval(imb_lgbm_pipeline, model_name, X_train, y_train)"
   ]
  },
  {
   "cell_type": "markdown",
   "metadata": {},
   "source": [
    "## Matrice de confusion"
   ]
  },
  {
   "cell_type": "code",
   "execution_count": 148,
   "metadata": {},
   "outputs": [
    {
     "data": {
      "text/plain": [
       "Pipeline(steps=[('imputer', SimpleImputer(strategy='median')),\n",
       "                ('wlgbm',\n",
       "                 LGBMClassifier(is_unbalance=True, learning_rate=0.02,\n",
       "                                max_depth=8, n_estimators=8000,\n",
       "                                num_leaves=34))])"
      ]
     },
     "execution_count": 148,
     "metadata": {},
     "output_type": "execute_result"
    }
   ],
   "source": [
    "# fit sur le jeu d'entraînement\n",
    "wlgbm_pipeline.fit(X_train, y_train)"
   ]
  },
  {
   "cell_type": "code",
   "execution_count": 149,
   "metadata": {
    "scrolled": true
   },
   "outputs": [
    {
     "data": {
      "image/png": "[encoded data removed]",
      "text/plain": [
       "<Figure size 432x288 with 2 Axes>"
      ]
     },
     "metadata": {
      "needs_background": "light"
     },
     "output_type": "display_data"
    }
   ],
   "source": [
    "# matrice de confusion sur le jeu de test\n",
    "plot_confusion_matrix(wlgbm_pipeline, X_test, y_test)\n",
    "plt.show()"
   ]
  },
  {
   "cell_type": "markdown",
   "metadata": {},
   "source": [
    "## Optimisation bayesienne des hyperparamètres"
   ]
  },
  {
   "cell_type": "code",
   "execution_count": 150,
   "metadata": {},
   "outputs": [],
   "source": [
    "from skopt.space import Integer, Real\n",
    "from skopt.utils import use_named_args\n",
    "from skopt import gp_minimize"
   ]
  },
  {
   "cell_type": "code",
   "execution_count": 153,
   "metadata": {},
   "outputs": [],
   "source": [
    "# définit l'espace de recherche des hyperparamètres\n",
    "# lgbm_model = LGBMClassifier(n_estimators=1000, learning_rate=0.02, num_leaves=34, max_depth=8, n_jobs=-1)\n",
    "lgbm_hyperparameters = ['n_estimators', 'learning_rate', 'num_leaves', 'max_depth']\n",
    "\n",
    "lgbm_search_space = [Integer(8000, 11000, name='n_estimators'),\n",
    "                     Real(0.01, 0.05, name='learning_rate'),\n",
    "                     Integer(25, 40, name='num_leaves'),\n",
    "                     Integer(6, 12, name='max_depth')]\n",
    "model_name = \"LightGBM (pondération)\""
   ]
  },
  {
   "cell_type": "code",
   "execution_count": 158,
   "metadata": {},
   "outputs": [],
   "source": [
    "# définit la fonction utilisée pour évaluer une configuration\n",
    "@use_named_args(lgbm_search_space)\n",
    "def evaluate_lgbm_model(**params):\n",
    "    #    \n",
    "    lgbm_model = LGBMClassifier(is_unbalance=True, n_jobs=-1)\n",
    "    lgbm_model.set_params(**params)\n",
    "    lgbm_steps = [('imputer', simple_imputer), ('lgbm', lgbm_model)]\n",
    "    lgbm_pipeline = Pipeline(steps=lgbm_steps)    \n",
    "    # calculate 5-fold cross validation\n",
    "    result = cross_val_score(lgbm_pipeline, X_train, y_train, cv=strat_fold, n_jobs=-1, scoring=my_scorer)\n",
    "    # calculate the mean of the scores\n",
    "    estimate = -np.mean(result)\n",
    "    return estimate"
   ]
  },
  {
   "cell_type": "code",
   "execution_count": 159,
   "metadata": {},
   "outputs": [
    {
     "name": "stdout",
     "output_type": "stream",
     "text": [
      "Optimization bayesienne du modèle : LightGBM (pondération) - dataset : 8000 lignes - temps de calcul 1476s\n"
     ]
    }
   ],
   "source": [
    "# perform optimization\n",
    "with timer(\"Optimization bayesienne du modèle : {} - dataset : {} lignes\".format(model_name, X_train.shape[0])):\n",
    "    lgbm_result = gp_minimize(func=evaluate_lgbm_model, dimensions=lgbm_search_space, n_calls=10)"
   ]
  },
  {
   "cell_type": "code",
   "execution_count": 160,
   "metadata": {},
   "outputs": [
    {
     "name": "stdout",
     "output_type": "stream",
     "text": [
      "Meilleur score: 1.19\n",
      "Meilleurs hyperparamètres: \n",
      "n_estimators : 8874.00\n",
      "learning_rate : 0.03\n",
      "num_leaves : 38.00\n",
      "max_depth : 10.00\n"
     ]
    }
   ],
   "source": [
    "print('Meilleur score: {:.2f}'.format(-lgbm_result.fun))\n",
    "print('Meilleurs hyperparamètres: ')\n",
    "for i in range(len(lgbm_hyperparameters)):\n",
    "    print('{} : {:.2f}'.format(lgbm_hyperparameters[i], lgbm_result.x[i]))"
   ]
  },
  {
   "cell_type": "markdown",
   "metadata": {},
   "source": [
    "## Features importance"
   ]
  },
  {
   "cell_type": "code",
   "execution_count": 161,
   "metadata": {},
   "outputs": [],
   "source": [
    "data_path = \"./data/\""
   ]
  },
  {
   "cell_type": "code",
   "execution_count": 161,
   "metadata": {
    "code_folding": []
   },
   "outputs": [],
   "source": [
    "# Display/plot feature importance\n",
    "def display_importances(feature_importance_df_):\n",
    "    #cols = feature_importance_df_[[\"feature\", \"importance\"]].groupby(\"feature\").mean().sort_values(by=\"importance\", ascending=False)[:40].index\n",
    "    # best_features = feature_importance_df_.loc[feature_importance_df_.feature.isin(cols)]\n",
    "    \n",
    "    df_grp = feature_importance_df_[[\"feature\", \"importance\"]].groupby(\"feature\").mean().sort_values(by=\"importance\", ascending=False)[:40].reset_index()\n",
    "    best_features = df_grp.loc[df_grp.feature.isin(df_grp)]\n",
    "    label_order = list(df_grp.sort_values(\"importance\", ascending=False)[\"feature\"].values)    \n",
    "    \n",
    "    plt.figure(figsize=(8, 10))\n",
    "    #sns.barplot(x=\"importance\", y=\"feature\", data=best_features.sort_values(by=\"importance\", ascending=False))\n",
    "    sns.barplot(x=\"importance\", y=\"feature\", order = label_order, data=df_grp)\n",
    "    plt.title('LightGBM Features (avg over folds)')\n",
    "    plt.tight_layout()\n",
    "    plt.savefig('lgbm_importances01.png')"
   ]
  },
  {
   "cell_type": "code",
   "execution_count": 162,
   "metadata": {
    "collapsed": true
   },
   "outputs": [
    {
     "name": "stdout",
     "output_type": "stream",
     "text": [
      "Starting LightGBM. Train shape: (5000, 744), test shape: (5000, 744)\n",
      "[LightGBM] [Warning] num_threads is set with n_jobs=-1, nthread=4 will be ignored. Current value: num_threads=-1\n",
      "Training until validation scores don't improve for 200 rounds\n",
      "[200]\ttraining's auc: 0.828137\ttraining's binary_logloss: 0.223484\tvalid_1's auc: 0.759977\tvalid_1's binary_logloss: 0.217824\n",
      "[400]\ttraining's auc: 0.861062\ttraining's binary_logloss: 0.208689\tvalid_1's auc: 0.760042\tvalid_1's binary_logloss: 0.217424\n",
      "Early stopping, best iteration is:\n",
      "[250]\ttraining's auc: 0.838\ttraining's binary_logloss: 0.219184\tvalid_1's auc: 0.762897\tvalid_1's binary_logloss: 0.217225\n",
      "Fold  1 AUC : 0.762897\n",
      "[LightGBM] [Warning] num_threads is set with n_jobs=-1, nthread=4 will be ignored. Current value: num_threads=-1\n",
      "Training until validation scores don't improve for 200 rounds\n",
      "[200]\ttraining's auc: 0.825053\ttraining's binary_logloss: 0.21575\tvalid_1's auc: 0.769575\tvalid_1's binary_logloss: 0.297408\n",
      "Early stopping, best iteration is:\n",
      "[45]\ttraining's auc: 0.774013\ttraining's binary_logloss: 0.240426\tvalid_1's auc: 0.769934\tvalid_1's binary_logloss: 0.313191\n",
      "Fold  2 AUC : 0.769934\n",
      "[LightGBM] [Warning] num_threads is set with n_jobs=-1, nthread=4 will be ignored. Current value: num_threads=-1\n",
      "Training until validation scores don't improve for 200 rounds\n",
      "[200]\ttraining's auc: 0.832053\ttraining's binary_logloss: 0.215402\tvalid_1's auc: 0.743925\tvalid_1's binary_logloss: 0.293719\n",
      "Early stopping, best iteration is:\n",
      "[109]\ttraining's auc: 0.807999\ttraining's binary_logloss: 0.226708\tvalid_1's auc: 0.74664\tvalid_1's binary_logloss: 0.292424\n",
      "Fold  3 AUC : 0.746640\n",
      "[LightGBM] [Warning] num_threads is set with n_jobs=-1, nthread=4 will be ignored. Current value: num_threads=-1\n",
      "Training until validation scores don't improve for 200 rounds\n",
      "[200]\ttraining's auc: 0.829295\ttraining's binary_logloss: 0.220308\tvalid_1's auc: 0.738028\tvalid_1's binary_logloss: 0.247864\n",
      "[400]\ttraining's auc: 0.86435\ttraining's binary_logloss: 0.204993\tvalid_1's auc: 0.725235\tvalid_1's binary_logloss: 0.248777\n",
      "Early stopping, best iteration is:\n",
      "[211]\ttraining's auc: 0.831514\ttraining's binary_logloss: 0.219329\tvalid_1's auc: 0.739808\tvalid_1's binary_logloss: 0.247514\n",
      "Fold  4 AUC : 0.739808\n",
      "[LightGBM] [Warning] num_threads is set with n_jobs=-1, nthread=4 will be ignored. Current value: num_threads=-1\n",
      "Training until validation scores don't improve for 200 rounds\n",
      "[200]\ttraining's auc: 0.830774\ttraining's binary_logloss: 0.223122\tvalid_1's auc: 0.750601\tvalid_1's binary_logloss: 0.213434\n",
      "Early stopping, best iteration is:\n",
      "[30]\ttraining's auc: 0.773667\ttraining's binary_logloss: 0.255216\tvalid_1's auc: 0.772069\tvalid_1's binary_logloss: 0.222491\n",
      "Fold  5 AUC : 0.772069\n",
      "[LightGBM] [Warning] num_threads is set with n_jobs=-1, nthread=4 will be ignored. Current value: num_threads=-1\n",
      "Training until validation scores don't improve for 200 rounds\n",
      "[200]\ttraining's auc: 0.821581\ttraining's binary_logloss: 0.217028\tvalid_1's auc: 0.786207\tvalid_1's binary_logloss: 0.294923\n",
      "[400]\ttraining's auc: 0.858576\ttraining's binary_logloss: 0.202505\tvalid_1's auc: 0.781058\tvalid_1's binary_logloss: 0.294967\n",
      "Early stopping, best iteration is:\n",
      "[208]\ttraining's auc: 0.823297\ttraining's binary_logloss: 0.216297\tvalid_1's auc: 0.787369\tvalid_1's binary_logloss: 0.294432\n",
      "Fold  6 AUC : 0.787369\n",
      "[LightGBM] [Warning] num_threads is set with n_jobs=-1, nthread=4 will be ignored. Current value: num_threads=-1\n",
      "Training until validation scores don't improve for 200 rounds\n",
      "[200]\ttraining's auc: 0.833372\ttraining's binary_logloss: 0.222474\tvalid_1's auc: 0.707889\tvalid_1's binary_logloss: 0.216207\n",
      "Early stopping, best iteration is:\n",
      "[142]\ttraining's auc: 0.81888\ttraining's binary_logloss: 0.229474\tvalid_1's auc: 0.717862\tvalid_1's binary_logloss: 0.214958\n",
      "Fold  7 AUC : 0.717862\n",
      "[LightGBM] [Warning] num_threads is set with n_jobs=-1, nthread=4 will be ignored. Current value: num_threads=-1\n",
      "Training until validation scores don't improve for 200 rounds\n",
      "[200]\ttraining's auc: 0.830335\ttraining's binary_logloss: 0.222348\tvalid_1's auc: 0.727801\tvalid_1's binary_logloss: 0.215426\n",
      "Early stopping, best iteration is:\n",
      "[145]\ttraining's auc: 0.818448\ttraining's binary_logloss: 0.228502\tvalid_1's auc: 0.726383\tvalid_1's binary_logloss: 0.214359\n",
      "Fold  8 AUC : 0.726383\n",
      "[LightGBM] [Warning] num_threads is set with n_jobs=-1, nthread=4 will be ignored. Current value: num_threads=-1\n",
      "Training until validation scores don't improve for 200 rounds\n",
      "[200]\ttraining's auc: 0.828329\ttraining's binary_logloss: 0.220681\tvalid_1's auc: 0.722667\tvalid_1's binary_logloss: 0.246058\n",
      "Early stopping, best iteration is:\n",
      "[130]\ttraining's auc: 0.8114\ttraining's binary_logloss: 0.228884\tvalid_1's auc: 0.732357\tvalid_1's binary_logloss: 0.243494\n",
      "Fold  9 AUC : 0.732357\n",
      "[LightGBM] [Warning] num_threads is set with n_jobs=-1, nthread=4 will be ignored. Current value: num_threads=-1\n",
      "Training until validation scores don't improve for 200 rounds\n",
      "[200]\ttraining's auc: 0.826878\ttraining's binary_logloss: 0.225303\tvalid_1's auc: 0.741828\tvalid_1's binary_logloss: 0.198972\n",
      "Early stopping, best iteration is:\n",
      "[155]\ttraining's auc: 0.816171\ttraining's binary_logloss: 0.230329\tvalid_1's auc: 0.745082\tvalid_1's binary_logloss: 0.198484\n",
      "Fold 10 AUC : 0.745082\n",
      "Full AUC score 0.742819\n"
     ]
    }
   ],
   "source": [
    "feat_importance_df = kn1.kfold_lightgbm(df=processed_df, num_folds=10, submission_file_name=\"submission_kernel02.csv\", \n",
    "                                         stratified= False, debug=True)"
   ]
  },
  {
   "cell_type": "code",
   "execution_count": 166,
   "metadata": {},
   "outputs": [
    {
     "data": {
      "text/plain": [
       "(7410, 3)"
      ]
     },
     "execution_count": 166,
     "metadata": {},
     "output_type": "execute_result"
    }
   ],
   "source": [
    "feat_importance_df.shape"
   ]
  },
  {
   "cell_type": "code",
   "execution_count": 167,
   "metadata": {},
   "outputs": [
    {
     "data": {
      "image/png": "[encoded data removed]",
      "text/plain": [
       "<Figure size 576x720 with 1 Axes>"
      ]
     },
     "metadata": {
      "needs_background": "light"
     },
     "output_type": "display_data"
    }
   ],
   "source": [
    "#\n",
    "display_importances(feat_importance_df)"
   ]
  },
  {
   "cell_type": "code",
   "execution_count": 162,
   "metadata": {},
   "outputs": [],
   "source": [
    "processed_df_filename = 'processed_df.csv'"
   ]
  },
  {
   "cell_type": "markdown",
   "metadata": {},
   "source": [
    "# Instantiation et entraînement du modèle LightGBM optimisé"
   ]
  },
  {
   "cell_type": "code",
   "execution_count": 165,
   "metadata": {},
   "outputs": [],
   "source": [
    "# processed_df"
   ]
  },
  {
   "cell_type": "code",
   "execution_count": 163,
   "metadata": {},
   "outputs": [],
   "source": [
    "# instance créée à partir des paramètres de l'optimisation bayesienne\n",
    "lightGBM_clf = LGBMClassifier(is_unbalance=True, n_estimators=8874, learning_rate=0.03, num_leaves=38, max_depth=10, n_jobs=-1)\n",
    "# imputation des valeurs manquantes\n",
    "# simple_imputer = SimpleImputer(strategy = 'median') #most_frequent\n",
    "# lgbm_steps = [('imputer', simple_imputer), ('lgbm', lightGBM_clf)]\n",
    "# lgbm_pipeline = Pipeline(steps=lgbm_steps)\n",
    "# model_name = \"LightGBM\"\n",
    "\n",
    "\n",
    "# # Divide in training/validation and test data\n",
    "# train_df = processed_df[processed_df['TARGET'].notnull()]\n",
    "# test_df = processed_df[processed_df['TARGET'].isnull()]\n",
    "# # Cross validation model\n",
    "# num_folds = 5\n",
    "# folds = StratifiedKFold(n_splits= num_folds, shuffle=True, random_state=1001)\n",
    "# for n_fold, (train_idx, valid_idx) in enumerate(folds.split(train_df[feats], train_df['TARGET'])):\n",
    "#     train_x, train_y = train_df[feats].iloc[train_idx], train_df['TARGET'].iloc[train_idx]\n",
    "#     valid_x, valid_y = train_df[feats].iloc[valid_idx], train_df['TARGET'].iloc[valid_idx]\n",
    "\n",
    "#     lightGBM_clf.fit(train_x, train_y, eval_set=[(train_x, train_y), (valid_x, valid_y)], \n",
    "#         eval_metric=\"auc\", early_stopping_rounds= 200, verbose=0) #verbose= 200"
   ]
  },
  {
   "cell_type": "code",
   "execution_count": 173,
   "metadata": {
    "scrolled": false
   },
   "outputs": [
    {
     "name": "stdout",
     "output_type": "stream",
     "text": [
      "Training until validation scores don't improve for 200 rounds\n",
      "[100]\tvalid_0's auc: 0.733023\tvalid_0's binary_logloss: 0.382326\n",
      "[200]\tvalid_0's auc: 0.724212\tvalid_0's binary_logloss: 0.349603\n",
      "Early stopping, best iteration is:\n",
      "[3]\tvalid_0's auc: 0.69991\tvalid_0's binary_logloss: 0.271354\n",
      "Entrainement du modèle : LightGBM (pondération) - sur le train set de : 8000 lignes - temps de calcul 7s\n"
     ]
    }
   ],
   "source": [
    "# entrainement sur le train set\n",
    "with timer(\"Entrainement du modèle : {} - sur le train set de : {} lignes\".format(model_name, X_train.shape[0])):\n",
    "    lightGBM_clf.fit(X_train, y_train, eval_set=[(X_test, y_test)], eval_metric=\"auc\", early_stopping_rounds= 200, verbose=100) #"
   ]
  },
  {
   "cell_type": "code",
   "execution_count": 137,
   "metadata": {},
   "outputs": [],
   "source": [
    "# sauve le modèle entraîné\n",
    "with open(\"lightGBM_trained_model\", \"wb\") as output_file:\n",
    "    pickle.dump(lightGBM_clf, output_file)"
   ]
  },
  {
   "cell_type": "code",
   "execution_count": 5,
   "metadata": {},
   "outputs": [],
   "source": [
    "# charge le modèle entraîné\n",
    "with open(\"lightGBM_trained_model\", \"rb\") as input_file:\n",
    "    lightGBM_clf = pickle.load(input_file)"
   ]
  },
  {
   "cell_type": "code",
   "execution_count": 179,
   "metadata": {},
   "outputs": [
    {
     "data": {
      "text/plain": [
       "{'boosting_type': 'gbdt',\n",
       " 'class_weight': None,\n",
       " 'colsample_bytree': 1.0,\n",
       " 'importance_type': 'split',\n",
       " 'learning_rate': 0.03,\n",
       " 'max_depth': 10,\n",
       " 'min_child_samples': 20,\n",
       " 'min_child_weight': 0.001,\n",
       " 'min_split_gain': 0.0,\n",
       " 'n_estimators': 8874,\n",
       " 'n_jobs': -1,\n",
       " 'num_leaves': 38,\n",
       " 'objective': None,\n",
       " 'random_state': None,\n",
       " 'reg_alpha': 0.0,\n",
       " 'reg_lambda': 0.0,\n",
       " 'silent': True,\n",
       " 'subsample': 1.0,\n",
       " 'subsample_for_bin': 200000,\n",
       " 'subsample_freq': 0,\n",
       " 'is_unbalance': True}"
      ]
     },
     "execution_count": 179,
     "metadata": {},
     "output_type": "execute_result"
    }
   ],
   "source": [
    "lightGBM_clf.get_params()"
   ]
  },
  {
   "cell_type": "markdown",
   "metadata": {},
   "source": [
    "## Interprétabilité du modèle avec SHAP"
   ]
  },
  {
   "cell_type": "code",
   "execution_count": 181,
   "metadata": {},
   "outputs": [],
   "source": [
    "import shap\n",
    "# load JS visualization code to notebook\n",
    "# shap.initjs()"
   ]
  },
  {
   "cell_type": "code",
   "execution_count": 138,
   "metadata": {},
   "outputs": [
    {
     "name": "stderr",
     "output_type": "stream",
     "text": [
      "LightGBM binary classifier with TreeExplainer shap values output has changed to a list of ndarray\n"
     ]
    }
   ],
   "source": [
    "# Crée les objets shap et les sauve (seront ensuite rechargés par le dashboard)\n",
    "shap_explainer = shap.TreeExplainer(lightGBM_clf)\n",
    "shap_values = shap_explainer.shap_values(X_train)"
   ]
  },
  {
   "cell_type": "code",
   "execution_count": 139,
   "metadata": {},
   "outputs": [],
   "source": [
    "# sauve les SHAP pour utilisation dans le dashboard\n",
    "with open(\"shap_objects\", \"wb\") as output_file:\n",
    "    pickle.dump(shap_explainer, output_file)\n",
    "    pickle.dump(shap_values, output_file)"
   ]
  },
  {
   "cell_type": "code",
   "execution_count": 116,
   "metadata": {},
   "outputs": [],
   "source": [
    "with open(\"shap_objects\", \"rb\") as input_file:\n",
    "    shap_explainer = pickle.load(input_file)\n",
    "    shap_values = pickle.load(input_file)"
   ]
  },
  {
   "cell_type": "code",
   "execution_count": 180,
   "metadata": {},
   "outputs": [
    {
     "ename": "NameError",
     "evalue": "name 'shap' is not defined",
     "output_type": "error",
     "traceback": [
      "\u001b[1;31m---------------------------------------------------------------------------\u001b[0m",
      "\u001b[1;31mNameError\u001b[0m                                 Traceback (most recent call last)",
      "\u001b[1;32m<ipython-input-180-3b6d88d7c71a>\u001b[0m in \u001b[0;36m<module>\u001b[1;34m\u001b[0m\n\u001b[0;32m      1\u001b[0m \u001b[1;31m# visualize the first prediction's explanation (use matplotlib=True to avoid Javascript)\u001b[0m\u001b[1;33m\u001b[0m\u001b[1;33m\u001b[0m\u001b[1;33m\u001b[0m\u001b[0m\n\u001b[0;32m      2\u001b[0m \u001b[0mid_cust_\u001b[0m \u001b[1;33m=\u001b[0m \u001b[1;36m0\u001b[0m\u001b[1;33m\u001b[0m\u001b[1;33m\u001b[0m\u001b[0m\n\u001b[1;32m----> 3\u001b[1;33m \u001b[0mshap\u001b[0m\u001b[1;33m.\u001b[0m\u001b[0mforce_plot\u001b[0m\u001b[1;33m(\u001b[0m\u001b[0mshap_explainer\u001b[0m\u001b[1;33m.\u001b[0m\u001b[0mexpected_value\u001b[0m\u001b[1;33m[\u001b[0m\u001b[1;36m1\u001b[0m\u001b[1;33m]\u001b[0m\u001b[1;33m,\u001b[0m \u001b[0mshap_values\u001b[0m\u001b[1;33m[\u001b[0m\u001b[1;36m1\u001b[0m\u001b[1;33m]\u001b[0m\u001b[1;33m[\u001b[0m\u001b[0mid_cust_\u001b[0m\u001b[1;33m,\u001b[0m\u001b[1;33m:\u001b[0m\u001b[1;33m]\u001b[0m\u001b[1;33m,\u001b[0m \u001b[0mX_train\u001b[0m\u001b[1;33m.\u001b[0m\u001b[0miloc\u001b[0m\u001b[1;33m[\u001b[0m\u001b[1;36m0\u001b[0m\u001b[1;33m,\u001b[0m\u001b[1;33m:\u001b[0m\u001b[1;33m]\u001b[0m\u001b[1;33m)\u001b[0m\u001b[1;33m\u001b[0m\u001b[1;33m\u001b[0m\u001b[0m\n\u001b[0m",
      "\u001b[1;31mNameError\u001b[0m: name 'shap' is not defined"
     ]
    }
   ],
   "source": [
    "# visualize the first prediction's explanation (use matplotlib=True to avoid Javascript)\n",
    "id_cust_ = 0\n",
    "shap.force_plot(shap_explainer.expected_value[1], shap_values[1][id_cust_,:], X_train.iloc[0,:])"
   ]
  },
  {
   "cell_type": "code",
   "execution_count": 128,
   "metadata": {},
   "outputs": [
    {
     "data": {
      "text/plain": [
       "Int64Index([1], dtype='int64')"
      ]
     },
     "execution_count": 128,
     "metadata": {},
     "output_type": "execute_result"
    }
   ],
   "source": [
    "sk_id = 100003\n",
    "train_df[ train_df.SK_ID_CURR==sk_id].index"
   ]
  },
  {
   "cell_type": "code",
   "execution_count": 219,
   "metadata": {
    "collapsed": true
   },
   "outputs": [
    {
     "data": {
      "image/png": "[encoded data removed]",
      "text/plain": [
       "<Figure size 576x684 with 1 Axes>"
      ]
     },
     "metadata": {},
     "output_type": "display_data"
    }
   ],
   "source": [
    "ax_1 = shap.summary_plot(shap_values, X_train)"
   ]
  },
  {
   "cell_type": "markdown",
   "metadata": {},
   "source": [
    " ## Détermination du meilleur seuil"
   ]
  },
  {
   "cell_type": "code",
   "execution_count": 168,
   "metadata": {},
   "outputs": [],
   "source": [
    "sns.set_context(\"notebook\")\n",
    "sns.set_style(\"darkgrid\")    "
   ]
  },
  {
   "cell_type": "code",
   "execution_count": 169,
   "metadata": {},
   "outputs": [],
   "source": [
    "def find_best_threshold(X, y_true, model):    \n",
    "    # prédiction de la classe 1\n",
    "    y_pred_proba = model.predict_proba(X, num_iteration=model.best_iteration_)[:,1] # \n",
    "    thresh = 0.05\n",
    "    step = 0.02\n",
    "    score_list, thresh_list = [], []\n",
    "    for thresh in np.arange(step,1,step):\n",
    "        y_pred = np.zeros(len(y_true))\n",
    "        # classe les proba > seuil dans la classe '1'\n",
    "        super_threshold_indices = y_pred_proba > thresh\n",
    "        y_pred[super_threshold_indices] = 1\n",
    "        # calcule le score\n",
    "        score_list.append(custom_score_function(y_true, y_pred))\n",
    "        thresh_list.append(thresh)\n",
    "    #graphe\n",
    "    fig, ax = plt.subplots(1,1, figsize=(10,5))\n",
    "    data=pd.DataFrame({'seuil':thresh_list, 'score':score_list})\n",
    "    g = sns.lineplot(data=data, x='seuil', y='score', marker='o', dashes=False, ax=ax)    \n",
    "    plt.show()\n",
    "    return thresh_list, score_list"
   ]
  },
  {
   "cell_type": "code",
   "execution_count": 174,
   "metadata": {},
   "outputs": [
    {
     "data": {
      "text/plain": [
       "array([[0.85845803, 0.14154197],\n",
       "       [0.9142102 , 0.0857898 ],\n",
       "       [0.92118816, 0.07881184],\n",
       "       ...,\n",
       "       [0.89769437, 0.10230563],\n",
       "       [0.91007686, 0.08992314],\n",
       "       [0.90659563, 0.09340437]])"
      ]
     },
     "execution_count": 174,
     "metadata": {},
     "output_type": "execute_result"
    }
   ],
   "source": [
    "# Utilisation du jeu de test\n",
    "lightGBM_clf.predict_proba(X_test)"
   ]
  },
  {
   "cell_type": "code",
   "execution_count": 178,
   "metadata": {},
   "outputs": [
    {
     "data": {
      "image/png": "[encoded data removed]",
      "text/plain": [
       "<Figure size 720x360 with 1 Axes>"
      ]
     },
     "metadata": {},
     "output_type": "display_data"
    }
   ],
   "source": [
    "thresh_list_, score_list_ = find_best_threshold(X_test, y_test, lightGBM_clf) # X_test, y_test"
   ]
  },
  {
   "cell_type": "code",
   "execution_count": 176,
   "metadata": {},
   "outputs": [
    {
     "name": "stdout",
     "output_type": "stream",
     "text": [
      "Meilleur score : -0.7673860911270983\n",
      "Seuil correspondant : 0.13999999999999999\n"
     ]
    }
   ],
   "source": [
    "print('Meilleur score : {}\\nSeuil correspondant : {}'.format(np.max(score_list_), thresh_list_[np.argmax(score_list_)]))"
   ]
  },
  {
   "cell_type": "code",
   "execution_count": 159,
   "metadata": {},
   "outputs": [
    {
     "data": {
      "image/png": "[encoded data removed]",
      "text/plain": [
       "<Figure size 720x360 with 1 Axes>"
      ]
     },
     "metadata": {},
     "output_type": "display_data"
    }
   ],
   "source": [
    "thresh_list_, score_list_ = find_best_threshold(X_train, y, lightGBM_clf)"
   ]
  },
  {
   "cell_type": "code",
   "execution_count": 160,
   "metadata": {},
   "outputs": [
    {
     "name": "stdout",
     "output_type": "stream",
     "text": [
      "Meilleur score : 8.71064467766117\n",
      "Seuil correspondant : 0.16\n"
     ]
    }
   ],
   "source": [
    "print('Meilleur score : {}\\nSeuil correspondant : {}'.format(np.max(score_list_), thresh_list_[np.argmax(score_list_)]))"
   ]
  },
  {
   "cell_type": "markdown",
   "metadata": {},
   "source": [
    "## prépa du DF utilisé pour l'affichage dashboard"
   ]
  },
  {
   "cell_type": "code",
   "execution_count": 107,
   "metadata": {},
   "outputs": [
    {
     "name": "stdout",
     "output_type": "stream",
     "text": [
      "MODE DEBUG : nb de lignes :  2000\n",
      "Retourne df non traité \n",
      "\n"
     ]
    }
   ],
   "source": [
    "raw_df = kn1.get_df(debug=True, reload=False, process=False, num_rows=num_rows)"
   ]
  },
  {
   "cell_type": "code",
   "execution_count": 108,
   "metadata": {},
   "outputs": [],
   "source": [
    "# NaN values for DAYS_EMPLOYED: 365.243 -> nan\n",
    "raw_df['DAYS_EMPLOYED'].replace(365243, np.nan, inplace= True)"
   ]
  },
  {
   "cell_type": "code",
   "execution_count": 98,
   "metadata": {},
   "outputs": [],
   "source": [
    "import dashboard1_var as dsh"
   ]
  },
  {
   "cell_type": "code",
   "execution_count": 16,
   "metadata": {},
   "outputs": [],
   "source": [
    "# import datetime\n",
    "# td = datetime.timedelta(days=365243)\n",
    "# year = datetime.timedelta(days=365)"
   ]
  },
  {
   "cell_type": "code",
   "execution_count": 109,
   "metadata": {},
   "outputs": [
    {
     "data": {
      "text/plain": [
       "['DAYS_BIRTH',\n",
       " 'DAYS_EMPLOYED',\n",
       " 'DAYS_REGISTRATION',\n",
       " 'DAYS_ID_PUBLISH',\n",
       " 'DAYS_LAST_PHONE_CHANGE']"
      ]
     },
     "execution_count": 109,
     "metadata": {},
     "output_type": "execute_result"
    }
   ],
   "source": [
    "dsh.type_var[dsh.DAYS]"
   ]
  },
  {
   "cell_type": "code",
   "execution_count": 82,
   "metadata": {},
   "outputs": [],
   "source": [
    "# data_path = \"./data/\"\n",
    "# app_df = pd.read_csv(data_path+'application_train.csv', nrows= num_rows)"
   ]
  },
  {
   "cell_type": "code",
   "execution_count": 110,
   "metadata": {},
   "outputs": [],
   "source": [
    "display_df = raw_df.copy()"
   ]
  },
  {
   "cell_type": "code",
   "execution_count": 111,
   "metadata": {},
   "outputs": [],
   "source": [
    "# conversion des jours en année\n",
    "for col in dsh.type_var[dsh.DAYS]:\n",
    "    display_df[ col ] = -display_df[col] / 365"
   ]
  },
  {
   "cell_type": "code",
   "execution_count": 181,
   "metadata": {},
   "outputs": [],
   "source": [
    "display_df[dsh.CREDIT_GRANT] = display_df['TARGET'].apply(lambda x: 'favorable' if x == 0 else 'not favorable')"
   ]
  },
  {
   "cell_type": "code",
   "execution_count": 140,
   "metadata": {},
   "outputs": [],
   "source": [
    "# display_df"
   ]
  },
  {
   "cell_type": "code",
   "execution_count": 182,
   "metadata": {},
   "outputs": [],
   "source": [
    "display_df.to_csv('display_df.csv', index= False)"
   ]
  },
  {
   "cell_type": "code",
   "execution_count": 140,
   "metadata": {},
   "outputs": [],
   "source": [
    "# display_df"
   ]
  },
  {
   "cell_type": "code",
   "execution_count": 141,
   "metadata": {
    "code_folding": []
   },
   "outputs": [],
   "source": [
    "# dictionnaire des MIN et MAX pour chaque variable éditable\n",
    "min_var, max_var = {}, {}\n",
    "for var_name in dsh.editable_var:\n",
    "    min_var[var_name] = float(display_df[var_name].min())\n",
    "    max_var[var_name] = float(display_df[var_name].max())\n",
    "\n",
    "# sauve dans un fichier\n",
    "with open(\"min_max_feats\", \"wb\") as output_file:\n",
    "    pickle.dump(min_var, output_file)\n",
    "    pickle.dump(max_var, output_file)\n",
    "    pickle.dump(feats, output_file)"
   ]
  },
  {
   "cell_type": "code",
   "execution_count": 7,
   "metadata": {
    "code_folding": []
   },
   "outputs": [],
   "source": [
    "# recharge les dictionnaires des MIN et MAX\n",
    "min_var, max_var = {}, {}\n",
    "with open(\"min_max_feats\", \"rb\") as input_file:\n",
    "    min_var = pickle.load(input_file)\n",
    "    max_var = pickle.load(input_file)\n",
    "    feats = pickle.load(input_file)"
   ]
  },
  {
   "cell_type": "markdown",
   "metadata": {},
   "source": [
    "## Courbe ROC"
   ]
  },
  {
   "cell_type": "code",
   "execution_count": 22,
   "metadata": {
    "code_folding": [
     3
    ]
   },
   "outputs": [],
   "source": [
    "# source : https://scikit-learn.org/stable/auto_examples/model_selection/plot_roc_crossval.html#sphx-glr-auto-examples-model-selection-plot-roc-crossval-py\n",
    "def display_roc_curve():\n",
    "    tprs = []\n",
    "    aucs = []\n",
    "    gmeans_set, thresholds_set = [], []\n",
    "    mean_fpr = np.linspace(0, 1, 100) \n",
    "    fig, ax = plt.subplots(figsize=(10,10))\n",
    "    for n_fold, (train_idx, valid_idx) in enumerate(folds.split(train_df[feats], train_df['TARGET'])):\n",
    "        train_x, train_y = train_df[feats].iloc[train_idx], train_df['TARGET'].iloc[train_idx]\n",
    "        valid_x, valid_y = train_df[feats].iloc[valid_idx], train_df['TARGET'].iloc[valid_idx]\n",
    "\n",
    "        lightGBM_clf.fit(train_x, train_y, eval_set=[(train_x, train_y), (valid_x, valid_y)], \n",
    "            eval_metric= 'auc', verbose=0, early_stopping_rounds= 200)\n",
    "        \n",
    "        # ROC curve\n",
    "        my_roc_curve = plot_roc_curve(lightGBM_clf, valid_x, valid_y,\n",
    "                             name='ROC fold {}'.format(n_fold),\n",
    "                             alpha=0.3, lw=1, ax=ax)        \n",
    "        \n",
    "        interp_tpr = np.interp(mean_fpr, my_roc_curve.fpr, my_roc_curve.tpr)\n",
    "        interp_tpr[0] = 0.0\n",
    "        tprs.append(interp_tpr)\n",
    "        aucs.append(my_roc_curve.roc_auc)\n",
    "        \n",
    "        # predict probabilities\n",
    "        y_pred = lightGBM_clf.predict_proba(valid_x)\n",
    "        # keep probabilities for the positive outcome only\n",
    "        y_pred = y_pred[:, 1]        \n",
    "        fpr, tpr, thresholds = roc_curve(valid_y, y_pred)\n",
    "        # calculate the g-mean for each threshold\n",
    "        gmeans = np.sqrt(tpr * (1-fpr))\n",
    "        # locate the index of the largest g-mean\n",
    "        ix = np.argmax(gmeans)\n",
    "        # print('Best Threshold=%f, G-Mean=%.3f' % (thresholds[ix], gmeans[ix]))\n",
    "        gmeans_set.append(gmeans[ix])\n",
    "        thresholds_set.append(thresholds[ix])\n",
    "        \n",
    "\n",
    "    # Courbe ROC\n",
    "    # trace la diagonale (classifieur naif)\n",
    "    ax.plot([0, 1], [0, 1], linestyle='--', lw=2, color='r', label='Chance', alpha=.8)\n",
    "    # trace la courbe moyenne\n",
    "    mean_tpr = np.mean(tprs, axis=0)\n",
    "    mean_tpr[-1] = 1.0\n",
    "    mean_auc = auc(mean_fpr, mean_tpr)\n",
    "    std_auc = np.std(aucs)\n",
    "\n",
    "    \n",
    "    ax.plot(mean_fpr, mean_tpr, color='b',\n",
    "            label=r'Mean ROC (AUC = %0.2f $\\pm$ %0.2f)' % (mean_auc, std_auc),\n",
    "            lw=2, alpha=.8)\n",
    "\n",
    "    std_tpr = np.std(tprs, axis=0)\n",
    "    tprs_upper = np.minimum(mean_tpr + std_tpr, 1)\n",
    "    tprs_lower = np.maximum(mean_tpr - std_tpr, 0)\n",
    "    ax.fill_between(mean_fpr, tprs_lower, tprs_upper, color='grey', alpha=.2,\n",
    "                    label=r'$\\pm$ 1 std. dev.')\n",
    "\n",
    "    # cherche la meilleure moyenne géométrique sur la courbe moyenne\n",
    "    gmeans = np.sqrt(mean_tpr * (1-mean_fpr))\n",
    "    # locate the index of the largest g-mean\n",
    "    ix = np.argmax(gmeans)\n",
    "    print('meilleure moyenne géométrique sur la courbe moyenne : ',gmeans[ix])\n",
    "    ax.scatter(mean_fpr[ix], mean_tpr[ix], marker='o', color='black', label='Best')    \n",
    "    \n",
    "    ax.set(xlim=[-0.05, 1.05], ylim=[-0.05, 1.05],\n",
    "           title=\"LightGBM Classifier\")\n",
    "    ax.legend(loc=\"lower right\")\n",
    "    plt.show()\n",
    "    \n",
    "    print('Seuil moyen={}, Moyenne géométrique moyenne ={}'.format(np.mean(thresholds_set), np.mean(gmeans_set)))\n",
    "    return"
   ]
  },
  {
   "cell_type": "code",
   "execution_count": 23,
   "metadata": {},
   "outputs": [
    {
     "name": "stdout",
     "output_type": "stream",
     "text": [
      "meilleure moyenne géométrique sur la courbe moyenne :  0.692732676021154\n"
     ]
    },
    {
     "data": {
      "image/png": "[encoded data removed]",
      "text/plain": [
       "<Figure size 720x720 with 1 Axes>"
      ]
     },
     "metadata": {
      "needs_background": "light"
     },
     "output_type": "display_data"
    },
    {
     "name": "stdout",
     "output_type": "stream",
     "text": [
      "Seuil moyen=0.0794563046377312, Moyenne géométrique moyenne =0.6964655014811014\n"
     ]
    }
   ],
   "source": [
    "display_roc_curve()"
   ]
  },
  {
   "cell_type": "code",
   "execution_count": 195,
   "metadata": {
    "code_folding": [
     0
    ]
   },
   "outputs": [],
   "source": [
    "# source : https://machinelearningmastery.com/threshold-moving-for-imbalanced-classification/\n",
    "# def compute_pr_curve():  \n",
    "#     precs = []\n",
    "#     mean_recall = np.linspace(0, 1, 100)\n",
    "#     mean_prec = []\n",
    "#     fig, ax = plt.subplots(figsize=(10,10))\n",
    "#     for n_fold, (train_idx, valid_idx) in enumerate(folds.split(train_df[feats], train_df['TARGET'])):\n",
    "#         train_x, train_y = train_df[feats].iloc[train_idx], train_df['TARGET'].iloc[train_idx]\n",
    "#         valid_x, valid_y = train_df[feats].iloc[valid_idx], train_df['TARGET'].iloc[valid_idx]\n",
    "\n",
    "#         lightGBM_clf.fit(train_x, train_y, eval_set=[(train_x, train_y), (valid_x, valid_y)], \n",
    "#             eval_metric= 'auc', verbose=0, early_stopping_rounds= 200)\n",
    "\n",
    "#         # predict probabilities\n",
    "#         y_pred = lightGBM_clf.predict_proba(valid_x)\n",
    "#         # keep probabilities for the positive outcome only\n",
    "#         y_pred = y_pred[:, 1]\n",
    "\n",
    "#         # PR curve\n",
    "#         pr_curve = plot_precision_recall_curve(lightGBM_clf, valid_x, valid_y,\n",
    "#                              name='PR fold {}'.format(n_fold),\n",
    "#                              alpha=0.3, lw=1, ax=ax)  \n",
    "        \n",
    "#         interp_prec = np.interp(mean_recall, pr_curve.recall, pr_curve.precision)\n",
    "#         interp_prec[0] = 1.0\n",
    "#         #print('interp_prec : ', interp_prec)\n",
    "#         precs.append(interp_prec)\n",
    "\n",
    "#         #aucs.append(roc_curve.roc_auc)\n",
    "\n",
    "#         # calcule meilleure f-measure et threshold\n",
    "#         precision, recall, pr_thresholds = precision_recall_curve(valid_y, y_pred)\n",
    "\n",
    "#         precision = precision[:-10]\n",
    "#         recall = recall[:-10]\n",
    "#         pr_thresholds = pr_thresholds[:-10]\n",
    "#         # convert to f score\n",
    "#         fscore = (2 * precision * recall) / (precision + recall)\n",
    "#         # locate the index of the largest f score\n",
    "#         ix = np.argmax(fscore)\n",
    "#         print('ix : ', ix)\n",
    "#         print('pr_curve - Best Threshold=%f, F-Score=%.3f' % (pr_thresholds[ix], fscore[ix]))\n",
    "        \n",
    "#     # trace la courbe moyenne\n",
    "# #     mean_prec = np.mean(precs, axis=0)\n",
    "# #     #mean_prec[-1] = 0.0\n",
    "# #     ax.plot(mean_recall, mean_prec, color='b',\n",
    "# #             #label=r'Mean ROC (AUC = %0.2f $\\pm$ %0.2f)' % (mean_auc, std_auc),\n",
    "# #             lw=2, alpha=.8)\n",
    "#     plt.show()\n",
    "#     return"
   ]
  },
  {
   "cell_type": "code",
   "execution_count": 221,
   "metadata": {},
   "outputs": [
    {
     "name": "stdout",
     "output_type": "stream",
     "text": [
      "Best Threshold=0.087427, G-Mean=0.746\n"
     ]
    }
   ],
   "source": [
    "# predict probabilities\n",
    "y_pred = lightGBM_clf.predict_proba(train_df[feats], num_iteration=lightGBM_clf.best_iteration_)\n",
    "# keep probabilities for the positive outcome only\n",
    "y_pred = y_pred[:, 1]\n",
    "# calculate roc curves\n",
    "fpr, tpr, thresholds = roc_curve(train_df['TARGET'], y_pred)\n",
    "# calculate the g-mean for each threshold\n",
    "gmeans = np.sqrt(tpr * (1-fpr))\n",
    "# locate the index of the largest g-mean\n",
    "ix = np.argmax(gmeans)\n",
    "print('Best Threshold=%f, G-Mean=%.3f' % (thresholds[ix], gmeans[ix]))"
   ]
  },
  {
   "cell_type": "markdown",
   "metadata": {},
   "source": [
    "## Test sur un individu"
   ]
  },
  {
   "cell_type": "code",
   "execution_count": 179,
   "metadata": {},
   "outputs": [],
   "source": [
    "# Test sur un individu\n",
    "\n",
    "SK_ID_CURR_TEST = 100002\n",
    "my_cust = processed_df[ processed_df.SK_ID_CURR == SK_ID_CURR_TEST].copy()"
   ]
  },
  {
   "cell_type": "code",
   "execution_count": 176,
   "metadata": {},
   "outputs": [],
   "source": [
    "# for var_name in dsh.editable_var: #:\n",
    "#     print(var_name)\n",
    "#     my_cust[var_name] = 10 #user_var[var_name]\n",
    "my_cust['EXT_SOURCE_1'] = 0\n",
    "my_cust['EXT_SOURCE_2'] = 100\n",
    "my_cust['EXT_SOURCE_3'] = 10"
   ]
  },
  {
   "cell_type": "code",
   "execution_count": 177,
   "metadata": {},
   "outputs": [],
   "source": [
    "# my_cust"
   ]
  },
  {
   "cell_type": "code",
   "execution_count": 180,
   "metadata": {},
   "outputs": [
    {
     "name": "stdout",
     "output_type": "stream",
     "text": [
      "proba :  0.41516847561799164\n",
      "classe :  0.0\n"
     ]
    }
   ],
   "source": [
    "# PREDICTION PROBA\n",
    "# [0] : sélectionne la première ligne (DF n'a qu'une ligne de toutes façons)\n",
    "# [1] : proba de la classe 1\n",
    "print('proba : ',lightGBM_clf.predict_proba(my_cust[feats], num_iteration=lightGBM_clf.best_iteration_)[0][1])\n",
    "\n",
    "# PREDICTION CLASSE\n",
    "print('classe : ',lightGBM_clf.predict(my_cust[feats], num_iteration=lightGBM_clf.best_iteration_)[0])"
   ]
  },
  {
   "cell_type": "code",
   "execution_count": 18,
   "metadata": {},
   "outputs": [
    {
     "name": "stderr",
     "output_type": "stream",
     "text": [
      "<ipython-input-18-4abad91bb825>:2: SettingWithCopyWarning: \n",
      "A value is trying to be set on a copy of a slice from a DataFrame.\n",
      "Try using .loc[row_indexer,col_indexer] = value instead\n",
      "\n",
      "See the caveats in the documentation: https://pandas.pydata.org/pandas-docs/stable/user_guide/indexing.html#returning-a-view-versus-a-copy\n",
      "  train_df['Accord crédit'] = train_df['TARGET'].apply(lambda x: 'favorable' if x == 0 else 'défavorable')\n"
     ]
    }
   ],
   "source": [
    "# Création colonne 'Accord crédit'\n",
    "train_df['Accord crédit'] = train_df['TARGET'].apply(lambda x: 'favorable' if x == 0 else 'défavorable')"
   ]
  },
  {
   "cell_type": "markdown",
   "metadata": {},
   "source": [
    "## Tests visualisation"
   ]
  },
  {
   "cell_type": "code",
   "execution_count": null,
   "metadata": {},
   "outputs": [],
   "source": [
    "# df = process_df(debug=True)"
   ]
  },
  {
   "cell_type": "code",
   "execution_count": 265,
   "metadata": {},
   "outputs": [],
   "source": [
    "sns.set_context(\"notebook\")\n",
    "sns.set_style(\"darkgrid\")    "
   ]
  },
  {
   "cell_type": "code",
   "execution_count": 15,
   "metadata": {},
   "outputs": [],
   "source": [
    "# Suppression valeurs extrêmes\n",
    "var_label= 'AMT_CREDIT' #'AMT_ANNUITY'# 'AMT_INCOME_TOTAL' #'AMT_GOODS_PRICE' #'AMT_ANNUITY' EXT_SOURCE_1"
   ]
  },
  {
   "cell_type": "code",
   "execution_count": 16,
   "metadata": {},
   "outputs": [
    {
     "data": {
      "text/plain": [
       "array([ 406597.5, 1293502.5,  135000. , ...,  497520. ,  348264. ,\n",
       "        355536. ])"
      ]
     },
     "execution_count": 16,
     "metadata": {},
     "output_type": "execute_result"
    }
   ],
   "source": [
    "train_df[var_label].values"
   ]
  },
  {
   "cell_type": "code",
   "execution_count": null,
   "metadata": {},
   "outputs": [],
   "source": [
    "np.nanpercentile(train_df[var_label].values, 25)"
   ]
  },
  {
   "cell_type": "code",
   "execution_count": null,
   "metadata": {},
   "outputs": [],
   "source": [
    "# calculate interquartile range\n",
    "q25, q75 = np.nanpercentile(train_df[var_label].values, 25), np.nanpercentile(train_df[var_label].values, 75)\n",
    "iqr = q75 - q25\n",
    "cut_off = iqr * 1.5\n",
    "lower, upper = q25 - cut_off, q75 + cut_off"
   ]
  },
  {
   "cell_type": "code",
   "execution_count": null,
   "metadata": {},
   "outputs": [],
   "source": [
    "# remove outliers\n",
    "# df = df.drop( df[ (df.score < 50) & (df.score > 20) ].index)\n",
    "df_outliers_removed = train_df[ (train_df[var_label] >= lower) &  (train_df[var_label] <= upper) ]"
   ]
  },
  {
   "cell_type": "markdown",
   "metadata": {},
   "source": [
    "### Histogrammes"
   ]
  },
  {
   "cell_type": "code",
   "execution_count": 19,
   "metadata": {},
   "outputs": [
    {
     "data": {
      "image/png": "[encoded data removed]",
      "text/plain": [
       "<Figure size 455.625x360 with 1 Axes>"
      ]
     },
     "metadata": {
      "needs_background": "light"
     },
     "output_type": "display_data"
    }
   ],
   "source": [
    "#fig, ax = plt.subplots(1,1, figsize=(6,6))\n",
    "#g = sns.distplot(outliers_removed, kde=False, color='k')\n",
    "g = sns.displot(data=train_df, x=var_label, hue=\"Accord crédit\", multiple=\"stack\", palette=\"deep\")\n",
    "# g = sns.displot(data=df_outliers_removed, x=var_label)\n",
    "g.set(xlabel = var_label, ylabel = \"Nb de clients\")\n",
    "plt.show(g)"
   ]
  },
  {
   "cell_type": "code",
   "execution_count": 20,
   "metadata": {},
   "outputs": [
    {
     "ename": "NameError",
     "evalue": "name 'df_outliers_removed' is not defined",
     "output_type": "error",
     "traceback": [
      "\u001b[1;31m---------------------------------------------------------------------------\u001b[0m",
      "\u001b[1;31mNameError\u001b[0m                                 Traceback (most recent call last)",
      "\u001b[1;32m<ipython-input-20-2db0862814d1>\u001b[0m in \u001b[0;36m<module>\u001b[1;34m\u001b[0m\n\u001b[1;32m----> 1\u001b[1;33m \u001b[0mdf_outliers_removed\u001b[0m\u001b[1;33m[\u001b[0m\u001b[1;34m'TARGET'\u001b[0m\u001b[1;33m]\u001b[0m\u001b[1;33m.\u001b[0m\u001b[0misnull\u001b[0m\u001b[1;33m(\u001b[0m\u001b[1;33m)\u001b[0m\u001b[1;33m.\u001b[0m\u001b[0msum\u001b[0m\u001b[1;33m(\u001b[0m\u001b[1;33m)\u001b[0m\u001b[1;33m\u001b[0m\u001b[1;33m\u001b[0m\u001b[0m\n\u001b[0m",
      "\u001b[1;31mNameError\u001b[0m: name 'df_outliers_removed' is not defined"
     ]
    }
   ],
   "source": [
    "df_outliers_removed['TARGET'].isnull().sum()"
   ]
  },
  {
   "cell_type": "code",
   "execution_count": null,
   "metadata": {},
   "outputs": [],
   "source": [
    "df_outliers_removed.describe()"
   ]
  },
  {
   "cell_type": "markdown",
   "metadata": {},
   "source": [
    "### BOXPLOTS"
   ]
  },
  {
   "cell_type": "code",
   "execution_count": null,
   "metadata": {},
   "outputs": [],
   "source": [
    "g = sns.boxplot(data=train_df, x='DAYS_BIRTH', y='Accord crédit')\n",
    "plt.show(g)"
   ]
  },
  {
   "cell_type": "code",
   "execution_count": null,
   "metadata": {},
   "outputs": [],
   "source": [
    "df_outliers_removed['TARGET'].isnull().sum()"
   ]
  },
  {
   "cell_type": "code",
   "execution_count": null,
   "metadata": {},
   "outputs": [],
   "source": [
    "# DF train d'origine (avec OH encoding et jointures)\n",
    "app_train_df = pd.read_csv(data_path+'application_train.csv')"
   ]
  },
  {
   "cell_type": "code",
   "execution_count": null,
   "metadata": {},
   "outputs": [],
   "source": [
    "raw_df = application_train_test(10000)"
   ]
  },
  {
   "cell_type": "code",
   "execution_count": 23,
   "metadata": {},
   "outputs": [],
   "source": [
    "processed_customer_df = processed_df[ processed_df.SK_ID_CURR == SK_ID_CURR_TEST].copy()"
   ]
  },
  {
   "cell_type": "code",
   "execution_count": 25,
   "metadata": {},
   "outputs": [
    {
     "data": {
      "text/plain": [
       "0    406597.5\n",
       "Name: AMT_CREDIT, dtype: float64"
      ]
     },
     "execution_count": 25,
     "metadata": {},
     "output_type": "execute_result"
    }
   ],
   "source": [
    "processed_customer_df[var_label]"
   ]
  },
  {
   "cell_type": "code",
   "execution_count": 26,
   "metadata": {},
   "outputs": [],
   "source": [
    "import dashboard1_var as dsh"
   ]
  },
  {
   "cell_type": "code",
   "execution_count": 28,
   "metadata": {},
   "outputs": [
    {
     "data": {
      "text/plain": [
       "dict_keys(['NAME_INCOME_TYPE', 'OCCUPATION_TYPE', 'AMT_INCOME_TOTAL', 'DAYS_EMPLOYED'])"
      ]
     },
     "execution_count": 28,
     "metadata": {},
     "output_type": "execute_result"
    }
   ],
   "source": [
    "dsh.cust_var['INCOME_OCCUPATION'].keys()"
   ]
  },
  {
   "cell_type": "code",
   "execution_count": 51,
   "metadata": {},
   "outputs": [],
   "source": [
    "cust_value = raw_df['AMT_INCOME_TOTAL'].values[0]"
   ]
  }
 ],
 "metadata": {
  "kernelspec": {
   "display_name": "Python 3",
   "language": "python",
   "name": "python3"
  },
  "language_info": {
   "codemirror_mode": {
    "name": "ipython",
    "version": 3
   },
   "file_extension": ".py",
   "mimetype": "text/x-python",
   "name": "python",
   "nbconvert_exporter": "python",
   "pygments_lexer": "ipython3",
   "version": "3.8.3"
  },
  "toc": {
   "base_numbering": 1,
   "nav_menu": {},
   "number_sections": true,
   "sideBar": true,
   "skip_h1_title": false,
   "title_cell": "Table of Contents",
   "title_sidebar": "Contents",
   "toc_cell": false,
   "toc_position": {},
   "toc_section_display": true,
   "toc_window_display": false
  },
  "varInspector": {
   "cols": {
    "lenName": 16,
    "lenType": 16,
    "lenVar": 40
   },
   "kernels_config": {
    "python": {
     "delete_cmd_postfix": "",
     "delete_cmd_prefix": "del ",
     "library": "var_list.py",
     "varRefreshCmd": "print(var_dic_list())"
    },
    "r": {
     "delete_cmd_postfix": ") ",
     "delete_cmd_prefix": "rm(",
     "library": "var_list.r",
     "varRefreshCmd": "cat(var_dic_list()) "
    }
   },
   "position": {
    "height": "145.083px",
    "left": "1416.67px",
    "right": "20px",
    "top": "119px",
    "width": "350px"
   },
   "types_to_exclude": [
    "module",
    "function",
    "builtin_function_or_method",
    "instance",
    "_Feature"
   ],
   "window_display": true
  }
 },
 "nbformat": 4,
 "nbformat_minor": 4
}
